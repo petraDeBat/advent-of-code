{
 "cells": [
  {
   "cell_type": "code",
   "execution_count": 11,
   "metadata": {},
   "outputs": [
    {
     "name": "stdout",
     "output_type": "stream",
     "text": [
      "1832\n"
     ]
    }
   ],
   "source": [
    "# Part 1\n",
    "# count the number of increases in the input\n",
    "\n",
    "arrayInput = stringInput.split(\"\\n\")\n",
    "arrayTest = testInput.split(\"\\n\")\n",
    "\n",
    "counter = 0\n",
    "\n",
    "# print(arrayTest)\n",
    "\n",
    "for i in range(1, len(arrayInput)):\n",
    "    if int(arrayInput[i]) > int(arrayInput[i-1]):\n",
    "        counter += 1\n",
    "\n",
    "print(counter)"
   ]
  },
  {
   "cell_type": "code",
   "execution_count": 13,
   "metadata": {},
   "outputs": [
    {
     "name": "stdout",
     "output_type": "stream",
     "text": [
      "1858\n"
     ]
    }
   ],
   "source": [
    "# Part 2\n",
    "# count the number of increases between each 3-part sliding window\n",
    "\n",
    "arrayInput = stringInput.split(\"\\n\")\n",
    "arrayTest = testInput.split(\"\\n\")\n",
    "\n",
    "counter = 0\n",
    "\n",
    "for i in range(3, len(arrayInput)):\n",
    "    prev_sum = int(arrayInput[i-1]) + int(arrayInput[i-2]) + int(arrayInput[i-3])\n",
    "    curr_sum = int(arrayInput[i]) + int(arrayInput[i-1]) + int(arrayInput[i-2])\n",
    "\n",
    "    if curr_sum > prev_sum:\n",
    "        counter += 1\n",
    "\n",
    "print(counter)\n"
   ]
  }
 ],
 "metadata": {
  "kernelspec": {
   "display_name": ".venv",
   "language": "python",
   "name": "python3"
  },
  "language_info": {
   "codemirror_mode": {
    "name": "ipython",
    "version": 3
   },
   "file_extension": ".py",
   "mimetype": "text/x-python",
   "name": "python",
   "nbconvert_exporter": "python",
   "pygments_lexer": "ipython3",
   "version": "3.10.13"
  }
 },
 "nbformat": 4,
 "nbformat_minor": 2
}
