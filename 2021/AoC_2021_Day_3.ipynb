{
 "cells": [
  {
   "cell_type": "code",
   "execution_count": 11,
   "metadata": {},
   "outputs": [
    {
     "name": "stdout",
     "output_type": "stream",
     "text": [
      "10110\n",
      "01001\n",
      "gamma: 22, epsilon: 9\n",
      "198\n"
     ]
    }
   ],
   "source": [
    "# Part 1\n",
    "# Use the binary numbers in your diagnostic report to calculate the gamma rate and epsilon rate, \n",
    "# then multiply them together. \n",
    "# What is the power consumption of the submarine\n",
    "\n",
    "arrayInput = stringInput.split(\"\\n\")\n",
    "arrayTest = testInput.split(\"\\n\")\n",
    "\n",
    "current_input = arrayTest\n",
    "\n",
    "# spilt the input into a list of ints\n",
    "for i in range(len(current_input)):\n",
    "    current_input[i] = [int(x) for x in current_input[i]]\n",
    "\n",
    "# print(current_input)\n",
    "\n",
    "gamma_rate = ''\n",
    "epsilon_rate = ''\n",
    "\n",
    "for i in range(len(current_input[0])):\n",
    "\n",
    "    zero_count = 0\n",
    "    one_count = 0\n",
    "    \n",
    "    for j in range(len(current_input)):\n",
    "        if current_input[j][i] == 0: zero_count += 1\n",
    "        else: one_count += 1\n",
    "\n",
    "\n",
    "    if zero_count > one_count:\n",
    "        gamma_rate += '0'\n",
    "        epsilon_rate += '1'\n",
    "    else:\n",
    "        gamma_rate += '1'\n",
    "        epsilon_rate += '0'\n",
    "\n",
    "print(gamma_rate)\n",
    "print(epsilon_rate)\n",
    "gamma_dec = int(gamma_rate, 2)\n",
    "epsilon_dec = int(epsilon_rate, 2)\n",
    "print(f'gamma: {gamma_dec}, epsilon: {epsilon_dec}')\n",
    "print(gamma_dec * epsilon_dec)"
   ]
  },
  {
   "cell_type": "code",
   "execution_count": 44,
   "metadata": {},
   "outputs": [
    {
     "name": "stdout",
     "output_type": "stream",
     "text": [
      "2235\n",
      "451\n",
      "1007985\n"
     ]
    }
   ],
   "source": [
    "# Part 2\n",
    "\n",
    "arrayInput = stringInput.split(\"\\n\")\n",
    "arrayTest = testInput.split(\"\\n\")\n",
    "\n",
    "current_input = arrayInput\n",
    "\n",
    "# spilt the input into a list of ints\n",
    "for i in range(len(current_input)):\n",
    "    current_input[i] = [int(x) for x in current_input[i]]\n",
    "\n",
    "# determing the rating of the submarine\n",
    "oxy_rating = current_input\n",
    "co2_rating = current_input\n",
    "\n",
    "def rating(report_list, rating_type):\n",
    "\n",
    "    while len(report_list) > 1:\n",
    "        for i in range(len(report_list[0])): # go through each column\n",
    "            zero_count = 0\n",
    "            one_count = 0\n",
    "\n",
    "            # Determine the winning number of the column\n",
    "            for j in range(len(report_list)):\n",
    "                if report_list[j][i] == 0: zero_count += 1\n",
    "                else: one_count += 1\n",
    "        \n",
    "            if rating_type == 'oxy': # oxygen rating\n",
    "                if zero_count <= one_count: winning_num = 1\n",
    "                else: winning_num = 0\n",
    "\n",
    "            else: # co2 rating\n",
    "                if zero_count > one_count: winning_num = 1\n",
    "                else: winning_num = 0\n",
    "\n",
    "            # elimate the numbers that contain the losing number of the column\n",
    "            # make a temp copy of the list\n",
    "            temp_list = []\n",
    "            for j in range(len(report_list)):\n",
    "                if report_list[j][i] == winning_num:\n",
    "                    temp_list.append(report_list[j])\n",
    "\n",
    "            # set the new list to the current list\n",
    "            report_list = temp_list\n",
    "            if len(report_list) == 1: break\n",
    "    \n",
    "    # formatting for return decimal value        \n",
    "    binary_rating = ''\n",
    "    for i in range(len(report_list[0])):\n",
    "        binary_rating += str(report_list[0][i])\n",
    "    return int(binary_rating, 2)\n",
    "\n",
    "print(rating(oxy_rating, 'oxy'))\n",
    "print(rating(co2_rating, 'co2'))\n",
    "print(rating(oxy_rating, 'oxy') * rating(co2_rating, 'co2'))"
   ]
  }
 ],
 "metadata": {
  "kernelspec": {
   "display_name": ".venv",
   "language": "python",
   "name": "python3"
  },
  "language_info": {
   "codemirror_mode": {
    "name": "ipython",
    "version": 3
   },
   "file_extension": ".py",
   "mimetype": "text/x-python",
   "name": "python",
   "nbconvert_exporter": "python",
   "pygments_lexer": "ipython3",
   "version": "3.10.13"
  }
 },
 "nbformat": 4,
 "nbformat_minor": 2
}
