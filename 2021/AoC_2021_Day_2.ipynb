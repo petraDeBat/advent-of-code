{
 "cells": [
  {
   "cell_type": "code",
   "execution_count": 6,
   "metadata": {},
   "outputs": [
    {
     "name": "stdout",
     "output_type": "stream",
     "text": [
      "1990000\n"
     ]
    }
   ],
   "source": [
    "# Part 1\n",
    "# mutiple the hortizontal and vertical distance from the starting point\n",
    "\n",
    "arrayInput = stringInput.split(\"\\n\")\n",
    "arrayTest = testInput.split(\"\\n\")\n",
    "\n",
    "current_input = arrayInput\n",
    "\n",
    "hortizontal = 0\n",
    "vertical = 0\n",
    "\n",
    "for i in current_input:\n",
    "\n",
    "    direction = i.split(\" \")[0]\n",
    "    value = int(i.split(\" \")[1])\n",
    "\n",
    "    if direction == \"forward\":\n",
    "        hortizontal += value\n",
    "    elif direction == \"up\":\n",
    "        vertical -= value\n",
    "    elif direction == \"down\":\n",
    "        vertical += value\n",
    "    else:\n",
    "        print(\"Error\")\n",
    "\n",
    "# print(f'hortizontal: {hortizontal}')\n",
    "# print(f'vertical: {vertical}')\n",
    "print(hortizontal * vertical)"
   ]
  },
  {
   "cell_type": "code",
   "execution_count": 10,
   "metadata": {},
   "outputs": [
    {
     "name": "stdout",
     "output_type": "stream",
     "text": [
      "1975421260\n"
     ]
    }
   ],
   "source": [
    "# Part 2\n",
    "'''\n",
    "down X increases your aim by X units.\n",
    "up X decreases your aim by X units.\n",
    "forward X does two things:\n",
    "   It increases your horizontal position by X units.\n",
    "   It increases your depth by your aim multiplied by X.\n",
    "'''\n",
    "\n",
    "arrayInput = stringInput.split(\"\\n\")\n",
    "arrayTest = testInput.split(\"\\n\")\n",
    "\n",
    "current_input = arrayInput\n",
    "\n",
    "hortizontal = 0\n",
    "vertical = 0\n",
    "aim = 0\n",
    "\n",
    "for i in current_input:\n",
    "\n",
    "    direction = i.split(\" \")[0]\n",
    "    value = int(i.split(\" \")[1])\n",
    "\n",
    "    if direction == \"forward\":\n",
    "        hortizontal += value\n",
    "        vertical += aim * value\n",
    "    elif direction == \"up\":\n",
    "        aim -= value\n",
    "    elif direction == \"down\":\n",
    "        aim += value\n",
    "    else:\n",
    "        print(\"Error\")\n",
    "\n",
    "# print(f'hortizontal: {hortizontal}')\n",
    "# print(f'vertical: {vertical}')\n",
    "print(hortizontal * vertical)\n"
   ]
  }
 ],
 "metadata": {
  "kernelspec": {
   "display_name": ".venv",
   "language": "python",
   "name": "python3"
  },
  "language_info": {
   "codemirror_mode": {
    "name": "ipython",
    "version": 3
   },
   "file_extension": ".py",
   "mimetype": "text/x-python",
   "name": "python",
   "nbconvert_exporter": "python",
   "pygments_lexer": "ipython3",
   "version": "3.10.13"
  }
 },
 "nbformat": 4,
 "nbformat_minor": 2
}
