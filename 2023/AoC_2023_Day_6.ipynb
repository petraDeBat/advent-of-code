{
 "cells": [
  {
   "cell_type": "code",
   "execution_count": null,
   "metadata": {},
   "outputs": [],
   "source": [
    "# DAY 6\n",
    "# READY FOR REDEMPTION"
   ]
  },
  {
   "cell_type": "code",
   "execution_count": null,
   "metadata": {},
   "outputs": [],
   "source": [
    "stringInput = '''Time:        56     97     77     93\n",
    "Distance:   499   2210   1097   1440'''"
   ]
  },
  {
   "cell_type": "code",
   "execution_count": null,
   "metadata": {},
   "outputs": [],
   "source": [
    "testString = '''Time:      7  15   30\n",
    "Distance:  9  40  200'''"
   ]
  },
  {
   "cell_type": "code",
   "execution_count": 7,
   "metadata": {},
   "outputs": [
    {
     "name": "stdout",
     "output_type": "stream",
     "text": [
      "1710720\n"
     ]
    }
   ],
   "source": [
    "# Part 1: determine the number of ways you can beat the record in each race\n",
    "# Info from each race: total race time, current record distance \n",
    "# Determine the number of ways you could beat the record in each race. \n",
    "# What do you get if you multiply these numbers together?\n",
    "\n",
    "test_input = [[7, 9], [15, 40], [30, 200]]\n",
    "input = [[56, 499], [97, 2210], [77, 1097], [93, 1440]]\n",
    "\n",
    "total = 1\n",
    "\n",
    "for race in input:\n",
    "    time = race[0]\n",
    "    record = race[1]\n",
    "\n",
    "    record_break_counter = 0\n",
    "    speed = 1\n",
    "    my_record = 0\n",
    "\n",
    "    # print(time)\n",
    "\n",
    "    while True:\n",
    "        # print(f'time - speed: {time - speed}, speed: {speed}')\n",
    "        curr_record =  ((time - speed) * speed)\n",
    "        if curr_record < my_record and curr_record < record:\n",
    "            break\n",
    "        else:\n",
    "            my_record = curr_record\n",
    "        if curr_record > record:\n",
    "            # print(f'curr_record: {curr_record}, speed: {speed}')\n",
    "            record_break_counter += 1\n",
    "        speed += 1\n",
    "    total *= record_break_counter\n",
    "    # print(f'record_break_counter: {record_break_counter}')\n",
    "\n",
    "print(total)\n",
    "\n",
    "\n",
    "\n"
   ]
  },
  {
   "cell_type": "code",
   "execution_count": 8,
   "metadata": {},
   "outputs": [
    {
     "name": "stdout",
     "output_type": "stream",
     "text": [
      "35349468\n"
     ]
    }
   ],
   "source": [
    "# Part 2, same thing but just one big race\n",
    "\n",
    "total = 1\n",
    "\n",
    "time = 56977793\n",
    "record = 499221010971440\n",
    "\n",
    "record_break_counter = 0\n",
    "speed = 1\n",
    "my_record = 0\n",
    "\n",
    "\n",
    "while True:\n",
    "    # print(f'time - speed: {time - speed}, speed: {speed}')\n",
    "    curr_record =  ((time - speed) * speed)\n",
    "    if curr_record < my_record and curr_record < record:\n",
    "        break\n",
    "    else:\n",
    "        my_record = curr_record\n",
    "    if curr_record > record:\n",
    "        # print(f'curr_record: {curr_record}, speed: {speed}')\n",
    "        record_break_counter += 1\n",
    "    speed += 1\n",
    "print(record_break_counter)\n",
    "\n",
    "\n",
    "\n",
    "\n",
    "\n",
    "\n"
   ]
  }
 ],
 "metadata": {
  "kernelspec": {
   "display_name": ".venv",
   "language": "python",
   "name": "python3"
  },
  "language_info": {
   "codemirror_mode": {
    "name": "ipython",
    "version": 3
   },
   "file_extension": ".py",
   "mimetype": "text/x-python",
   "name": "python",
   "nbconvert_exporter": "python",
   "pygments_lexer": "ipython3",
   "version": "3.9.6"
  }
 },
 "nbformat": 4,
 "nbformat_minor": 2
}
